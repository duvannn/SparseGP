{
 "cells": [
  {
   "cell_type": "code",
   "execution_count": 33,
   "metadata": {
    "collapsed": true
   },
   "outputs": [],
   "source": [
    "from utils import get_all_data, read_dataset, mean_square_error,generateSinData\n",
    "from gp import GaussianProcess, SparseGaussianProcess\n",
    "from kernels import ARDKernel\n",
    "import numpy as np\n",
    "import matplotlib.pyplot as plt\n",
    "%matplotlib inline\n",
    "import time"
   ]
  },
  {
   "cell_type": "code",
   "execution_count": 34,
   "metadata": {
    "collapsed": false
   },
   "outputs": [],
   "source": [
    "trainX, trainY, testX, testY = get_all_data(\"kin40k\")"
   ]
  },
  {
   "cell_type": "code",
   "execution_count": 32,
   "metadata": {
    "collapsed": false
   },
   "outputs": [],
   "source": [
    "fullgp = GaussianProcess(np.array(trainX[0:500,:],dtype=np.float64), np.array(trainY[0:500,:],dtype=np.float64))"
   ]
  },
  {
   "cell_type": "code",
   "execution_count": 22,
   "metadata": {
    "collapsed": false
   },
   "outputs": [
    {
     "data": {
      "text/plain": [
       "<matplotlib.collections.PathCollection at 0x7f9b9f444110>"
      ]
     },
     "execution_count": 22,
     "metadata": {},
     "output_type": "execute_result"
    },
    {
     "data": {
      "image/png": "[encoded data removed]",
      "text/plain": [
       "<matplotlib.figure.Figure at 0x7f9b9e8ab090>"
      ]
     },
     "metadata": {},
     "output_type": "display_data"
    }
   ],
   "source": [
    "fullgp.RMSprop()"
   ]
  },
  {
   "cell_type": "code",
   "execution_count": 117,
   "metadata": {
    "collapsed": false
   },
   "outputs": [],
   "source": [
    "spgp = SparseGaussianProcess(np.array(trainX[0:500,:],dtype=np.float64), np.array(trainY[0:500,:],dtype=np.float64),20)\n",
    "rms = spgp.RMSprop()\n",
    "cost = []"
   ]
  },
  {
   "cell_type": "code",
   "execution_count": null,
   "metadata": {
    "collapsed": false
   },
   "outputs": [],
   "source": [
    "c1 = rms()\n",
    "for i in range(5000):\n",
    "    c = rms()\n",
    "    cost.append(c)\n",
    "    if not np.isfinite(c) or c1[0]-c[0]<0.001:\n",
    "        print c\n",
    "        break;\n",
    "plt.plot(cost)"
   ]
  },
  {
   "cell_type": "code",
   "execution_count": 111,
   "metadata": {
    "collapsed": true
   },
   "outputs": [],
   "source": [
    "spposterior = spgp.getPosteriorPredictive()"
   ]
  },
  {
   "cell_type": "code",
   "execution_count": 112,
   "metadata": {
    "collapsed": false
   },
   "outputs": [
    {
     "data": {
      "text/plain": [
       "matrix([[ 0.7866346]])"
      ]
     },
     "execution_count": 112,
     "metadata": {},
     "output_type": "execute_result"
    }
   ],
   "source": [
    "e = 0\n",
    "for x, y in zip(testX,testY):\n",
    "    m, _  = spposterior(x)\n",
    "    e += (y-m)**2\n",
    "e/testX.shape[0]"
   ]
  },
  {
   "cell_type": "code",
   "execution_count": 91,
   "metadata": {
    "collapsed": false
   },
   "outputs": [],
   "source": [
    "res = [0.75165385,0.71362669,0.30771117]\n",
    "M = [5,10,50]"
   ]
  },
  {
   "cell_type": "code",
   "execution_count": 93,
   "metadata": {
    "collapsed": false
   },
   "outputs": [
    {
     "data": {
      "text/plain": [
       "<matplotlib.collections.PathCollection at 0x7f91997d9190>"
      ]
     },
     "execution_count": 93,
     "metadata": {},
     "output_type": "execute_result"
    },
    {
     "data": {
      "image/png": "[encoded data removed]",
      "text/plain": [
       "<matplotlib.figure.Figure at 0x7f919d34eed0>"
      ]
     },
     "metadata": {},
     "output_type": "display_data"
    }
   ],
   "source": [
    "plt.scatter(M,np.log(res))"
   ]
  },
  {
   "cell_type": "code",
   "execution_count": 28,
   "metadata": {
    "collapsed": false,
    "scrolled": true
   },
   "outputs": [
    {
     "name": "stdout",
     "output_type": "stream",
     "text": [
      "0.056293041872\n",
      "0.0140905408774\n",
      "0.341696231081\n",
      "0.120724927494\n",
      "0.460290019496\n"
     ]
    },
    {
     "data": {
      "image/png": "[encoded data removed]",
      "text/plain": [
       "<matplotlib.figure.Figure at 0x7f91a8e2ca10>"
      ]
     },
     "metadata": {},
     "output_type": "display_data"
    }
   ],
   "source": [
    "costs = []\n",
    "params = []\n",
    "for points in [5,10,20,30,50]:\n",
    "    spgp = SparseGaussianProcess(np.array(trainX[0:500,:],dtype=np.float64), np.array(trainY[0:500,:],dtype=np.float64),points)\n",
    "    rms = spgp.Adam()\n",
    "    cost = []\n",
    "    param = []\n",
    "    c1 = rms()\n",
    "    for i in range(5000):\n",
    "        c = rms()\n",
    "        cost.append(c)\n",
    "        if not np.isfinite(c) or c1[0]-c[0]<0.001:\n",
    "            break;\n",
    "    plt.plot(cost)\n",
    "    costs.append(cost)\n",
    "    for p in spgp.params:\n",
    "        param.append(p.eval())\n",
    "    params.append(param)\n",
    "    spposterior = spgp.getPosteriorPredictive()\n",
    "    sparsepreds = []\n",
    "    i = 0\n",
    "    while i<testX.shape[0]:\n",
    "        i+=1000\n",
    "        x = testX[i-1000:np.min([i,testX.shape[0]]),]\n",
    "        mu, covar = spposterior(x)\n",
    "        sparsepreds.extend(mu)\n",
    "    sparsepreds = np.array(sparsepreds)\n",
    "    print np.log(mean_square_error(sparsepreds.T,testY[:]))"
   ]
  },
  {
   "cell_type": "code",
   "execution_count": 26,
   "metadata": {
    "collapsed": false
   },
   "outputs": [
    {
     "data": {
      "text/plain": [
       "1.5276374048996439"
      ]
     },
     "execution_count": 26,
     "metadata": {},
     "output_type": "execute_result"
    }
   ],
   "source": [
    "mean_square_error(sparsepreds.T,testY[:])"
   ]
  },
  {
   "cell_type": "code",
   "execution_count": null,
   "metadata": {
    "collapsed": false,
    "scrolled": true
   },
   "outputs": [],
   "source": [
    "for points,param in zip([50],params):\n",
    "    spgp = SparseGaussianProcess(np.array(trainX[0:1000,:],dtype=np.float64), np.array(trainY[0:1000,:],dtype=np.float64),points)\n",
    "    for p,v in zip(param,spgp.params):\n",
    "        v.set_value(p)\n",
    "    spposterior = spgp.getPosteriorPredictive()\n",
    "    sparsepreds = []\n",
    "    i = 0\n",
    "    while i<testX.shape[0]:\n",
    "        i+=1000\n",
    "        x = testX[i-1000:np.min([i,testX.shape[0]]),]\n",
    "        mu, covar = spposterior(x)\n",
    "        sparsepreds.extend(mu)\n",
    "    sparsepreds = np.array(sparsepreds)\n",
    "    print np.log(mean_square_error(sparsepreds.T,testY[:]))"
   ]
  },
  {
   "cell_type": "code",
   "execution_count": 22,
   "metadata": {
    "collapsed": false
   },
   "outputs": [
    {
     "ename": "IndexError",
     "evalue": "list index out of range",
     "output_type": "error",
     "traceback": [
      "\u001b[1;31m---------------------------------------------------------------------------\u001b[0m",
      "\u001b[1;31mIndexError\u001b[0m                                Traceback (most recent call last)",
      "\u001b[1;32m<ipython-input-22-a447dabbf5af>\u001b[0m in \u001b[0;36m<module>\u001b[1;34m()\u001b[0m\n\u001b[1;32m----> 1\u001b[1;33m \u001b[0mcosts\u001b[0m\u001b[1;33m[\u001b[0m\u001b[1;36m5\u001b[0m\u001b[1;33m]\u001b[0m\u001b[1;33m\u001b[0m\u001b[0m\n\u001b[0m",
      "\u001b[1;31mIndexError\u001b[0m: list index out of range"
     ]
    }
   ],
   "source": [
    "costs[5]"
   ]
  },
  {
   "cell_type": "code",
   "execution_count": 27,
   "metadata": {
    "collapsed": false
   },
   "outputs": [
    {
     "name": "stdout",
     "output_type": "stream",
     "text": [
      "[  1.00000000e-04   1.00000000e-04   8.05502036e-02   2.44661323e-01\n",
      "   3.69430255e-01   5.90552030e-01   4.14716765e-01   2.18914827e-01]\n",
      "1.02555093383\n",
      "0.706470826676\n",
      "[[ 0.02772354 -1.41519215  0.72135067 -1.0346717   0.36186556  0.09356114\n",
      "  -1.49455026  0.49735449]\n",
      " [ 0.22399081  1.2278315   1.39359291 -1.1780596  -0.95067402  0.36232831\n",
      "   0.52559509 -0.92797554]\n",
      " [ 0.48895201  0.68192088 -0.81014589 -0.03386362 -1.4633475  -1.07330315\n",
      "  -0.73793832  0.61028304]\n",
      " [-1.17408778  1.5851891   0.36186301  0.47060748 -0.68235506 -0.44785767\n",
      "  -1.5639923  -1.13007485]\n",
      " [-0.42998007 -1.35214869  0.28357763  1.16596736 -1.4093195  -0.70114145\n",
      "  -0.03039124 -1.0553953 ]\n",
      " [-1.15387961  1.01642027 -0.89611368 -0.89995613  1.21317575 -0.40902666\n",
      "  -0.35069894  1.46869603]\n",
      " [ 0.2698465   0.59969065 -0.24303118 -0.76195647 -1.20141219  0.1905946\n",
      "  -0.82373615 -0.69936209]\n",
      " [ 0.06559912  1.48583663  0.70831901 -0.15714277 -0.66473322 -0.98475298\n",
      "   0.73420512 -1.05175066]\n",
      " [ 0.03549024 -0.89999966 -0.81178108  0.78796611  0.23167326  1.29859255\n",
      "  -0.75202676 -1.08788079]\n",
      " [ 1.07352455  0.57490795 -0.4833793  -1.27370902  0.50057099  1.27360141\n",
      "  -0.39524639 -0.54305285]\n",
      " [-0.559544    0.98507964  1.27671893  1.04382997  0.76312802  0.59787601\n",
      "  -0.76182915  0.89612003]\n",
      " [-0.50602227  0.7303718   0.87743574  0.06871836  1.4039994  -1.14627374\n",
      "   0.92992081 -1.01950924]\n",
      " [-0.36014758  0.8800896  -1.2906194  -0.66191158 -1.21838175  0.8269273\n",
      "  -0.66813484  1.0714913 ]\n",
      " [-1.45835611  0.69355597 -0.171274   -1.41276854 -1.65520748 -1.30325349\n",
      "   0.47930372  0.7175326 ]\n",
      " [ 0.31900207 -0.5307811  -0.7701749   0.84154076  0.54625987 -0.29454682\n",
      "  -0.11370958  0.51833989]\n",
      " [ 0.69669793  0.22496551 -1.37426866  0.05824623 -0.07128334  0.28668759\n",
      "   0.50713307 -0.87169668]\n",
      " [-0.86786213  0.40983043  0.02206994  0.71413738  1.28661984  0.70726482\n",
      "   1.34991345 -0.75526522]\n",
      " [ 0.69012846 -0.55616557  1.10618248 -0.84086622 -0.89872918 -1.61340028\n",
      "  -0.05411008 -0.79254444]\n",
      " [-0.01872372  0.66645911 -0.75524469 -0.8470247   0.97376061 -0.89407051\n",
      "  -0.96645462  0.29466832]\n",
      " [-0.81460111 -1.26770419  0.14395193  0.17036844 -0.67222366  0.95552695\n",
      "  -1.15292926  0.9153328 ]\n",
      " [ 1.09456169  1.54160309 -1.03620194 -0.39538605 -0.37009129  0.20257799\n",
      "   1.46951864 -0.72649032]\n",
      " [ 0.31077824  0.79139221  1.42287429  0.81541322  1.25710558  1.39467588\n",
      "   1.58609179 -1.38101356]\n",
      " [ 0.257296    1.48210795 -0.50224376  0.19890091  1.02826305  0.61814327\n",
      "  -0.93356563  0.27252921]\n",
      " [-1.16693951 -0.65809941 -0.72090121 -0.37391036  1.0652314   1.33235051\n",
      "  -0.89474261  0.97622891]\n",
      " [ 0.04699986 -0.26791655  0.91165463 -0.56452478  0.1822318   1.37501864\n",
      "   0.78147426 -0.9241888 ]\n",
      " [ 0.72393059 -1.05693094 -0.13645284  0.71564671  1.09298468 -0.46959195\n",
      "  -0.81223378 -0.99130598]\n",
      " [ 0.17382247 -0.85707743  1.10795153 -0.10691635  1.53538377  0.55057178\n",
      "  -1.15131887 -1.1066952 ]\n",
      " [ 1.19678868 -0.80292068  0.67097697 -0.4567206  -0.65103256  1.13955211\n",
      "  -0.6673394  -0.99524209]\n",
      " [-1.12734731 -1.36063462  1.54298814 -0.09687465 -1.35579407  0.53280194\n",
      "  -1.33116399 -0.15787071]\n",
      " [ 1.5140432  -1.41720525 -1.45268278  0.69400426  1.48281916 -0.80023047\n",
      "   1.08547253 -0.25537071]\n",
      " [ 1.5317761  -0.37484594  0.74978273 -1.97246216 -0.77289031  0.64320928\n",
      "  -0.82056295  1.1122711 ]\n",
      " [-0.91862123  0.86142862  0.94768781  0.3146165  -0.96345692 -1.17272427\n",
      "   0.45729561  0.59108858]\n",
      " [ 1.38200741  0.46353525 -1.02803714  0.13667148 -1.3393559  -0.70654075\n",
      "   0.29424472 -0.66788809]\n",
      " [-0.50599406  0.97010641  0.66766365 -1.06972153 -0.57518682  1.46540217\n",
      "  -0.06360577  0.27327781]\n",
      " [-0.40239144 -1.2342576  -0.59898655  0.37819581 -0.05404327 -1.54830366\n",
      "  -0.51065134 -0.80654424]\n",
      " [-0.56205927 -1.28446397 -0.89562948 -1.10602957 -0.95317966 -0.73704896\n",
      "   0.54557913  1.14123364]\n",
      " [ 0.52798767 -0.18694932 -0.32672137 -0.95316038  0.30650024 -1.47259474\n",
      "  -0.89344135  1.63129395]\n",
      " [-0.81452063  0.35715862 -0.29089572 -0.6123275   0.80475742 -0.72065296\n",
      "   0.87963893 -0.05937296]\n",
      " [-1.43080262 -0.93365463 -0.75820981  1.33017479 -1.09188374  1.08417712\n",
      "   1.46663562 -1.04968218]\n",
      " [ 0.5489682  -0.30667093  1.3915836  -1.14655063  0.53553595 -0.48677116\n",
      "  -0.88873466 -0.38957037]\n",
      " [ 0.21949943 -0.70946385  0.41740746 -0.54687731 -0.7110292   0.10036367\n",
      "   0.61629364  0.13290986]\n",
      " [-1.20230874  1.77481332 -0.7601722   1.29076457 -0.83064042  0.1764012\n",
      "   1.11177951  0.54619918]\n",
      " [-0.45991759 -1.381083   -1.01180009 -1.17237733 -0.05264586  1.30612591\n",
      "  -0.09735906 -0.24038732]\n",
      " [ 0.44700377 -0.33963431  0.62362998  0.34388346 -0.94679     1.35223447\n",
      "  -0.71995011  0.20054216]\n",
      " [ 0.13429026 -1.69996361  0.26975526  0.30156528 -0.59747448  1.12841336\n",
      "   1.18076112  1.20430179]\n",
      " [-0.08905696 -1.10007177  1.15415946  0.87531523  1.00662509 -1.26873116\n",
      "   0.63734555  0.68865859]\n",
      " [-0.09978341 -1.88519902 -0.34678957 -1.09651069 -1.27778244  0.26165096\n",
      "   0.41147892 -0.7954038 ]\n",
      " [ 0.4208288  -0.83024679  1.04385227  0.79551687 -0.84928021 -0.61670699\n",
      "  -0.8672536   0.91024168]\n",
      " [-0.39589092 -0.46322602  1.15404036  0.76375234 -0.35524826 -0.56761641\n",
      "   1.10680169 -1.04865446]\n",
      " [ 0.44239738  1.2412634  -0.87771343  1.02137747  0.85890613 -0.87249263\n",
      "  -1.06510921  0.4913993 ]]\n"
     ]
    }
   ],
   "source": [
    "for p in spgp.params:\n",
    "    print p.eval()"
   ]
  },
  {
   "cell_type": "code",
   "execution_count": 24,
   "metadata": {
    "collapsed": false
   },
   "outputs": [],
   "source": [
    "spposterior = spgp.getPosteriorPredictive()"
   ]
  },
  {
   "cell_type": "code",
   "execution_count": 25,
   "metadata": {
    "collapsed": false,
    "scrolled": true
   },
   "outputs": [],
   "source": [
    "sparsepreds = []\n",
    "i = 0\n",
    "while i<testX.shape[0]:\n",
    "    i+=1000\n",
    "    x = testX[i-1000:np.min([i,testX.shape[0]]),]\n",
    "    mu, covar = spposterior(x)\n",
    "    sparsepreds.extend(mu)\n",
    "sparsepreds = np.array(sparsepreds)\n",
    "np.log(mean_square_error(sparsepreds.T,testY[:]))"
   ]
  },
  {
   "cell_type": "code",
   "execution_count": 26,
   "metadata": {
    "collapsed": false
   },
   "outputs": [
    {
     "data": {
      "text/plain": [
       "0.12814134900632021"
      ]
     },
     "execution_count": 26,
     "metadata": {},
     "output_type": "execute_result"
    }
   ],
   "source": []
  },
  {
   "cell_type": "code",
   "execution_count": 22,
   "metadata": {
    "collapsed": false
   },
   "outputs": [],
   "source": [
    "spgp.c.set_value(fullgp.c.eval())\n",
    "spgp.b.set_value(fullgp.b.eval())\n",
    "spgp.sigma.set_value(fullgp.sigma.eval())"
   ]
  },
  {
   "cell_type": "code",
   "execution_count": 34,
   "metadata": {
    "collapsed": true
   },
   "outputs": [],
   "source": [
    "cost = []\n",
    "spopt = spgp.RMSprop(only_psudo=True)"
   ]
  },
  {
   "cell_type": "code",
   "execution_count": 35,
   "metadata": {
    "collapsed": false
   },
   "outputs": [],
   "source": [
    "for i in range(10):\n",
    "    cost.append(spopt())"
   ]
  },
  {
   "cell_type": "code",
   "execution_count": 36,
   "metadata": {
    "collapsed": false
   },
   "outputs": [
    {
     "data": {
      "text/plain": [
       "[<matplotlib.lines.Line2D at 0x7f38c1e1f810>]"
      ]
     },
     "execution_count": 36,
     "metadata": {},
     "output_type": "execute_result"
    },
    {
     "data": {
      "image/png": "[encoded data removed]",
      "text/plain": [
       "<matplotlib.figure.Figure at 0x7f38e3c81e90>"
      ]
     },
     "metadata": {},
     "output_type": "display_data"
    }
   ],
   "source": [
    "plt.plot(cost)"
   ]
  },
  {
   "cell_type": "code",
   "execution_count": null,
   "metadata": {
    "collapsed": false
   },
   "outputs": [],
   "source": [
    "fullposterior = spgp.getPosteriorPredictive()"
   ]
  },
  {
   "cell_type": "code",
   "execution_count": null,
   "metadata": {
    "collapsed": true
   },
   "outputs": [],
   "source": [
    "fpreds = []\n",
    "i = 0\n",
    "while i<testX.shape[0]:\n",
    "    i+=1000\n",
    "    x = testX[i-1000:np.min([i,testX.shape[0]]),]\n",
    "    mu, covar = fullposterior(x)\n",
    "    preds.extend(mu)\n",
    "fpreds = np.array(fpreds)"
   ]
  },
  {
   "cell_type": "code",
   "execution_count": 54,
   "metadata": {
    "collapsed": false
   },
   "outputs": [
    {
     "ename": "NameError",
     "evalue": "name 'fpreds' is not defined",
     "output_type": "error",
     "traceback": [
      "\u001b[1;31m---------------------------------------------------------------------------\u001b[0m",
      "\u001b[1;31mNameError\u001b[0m                                 Traceback (most recent call last)",
      "\u001b[1;32m<ipython-input-54-da64b57fb275>\u001b[0m in \u001b[0;36m<module>\u001b[1;34m()\u001b[0m\n\u001b[1;32m----> 1\u001b[1;33m \u001b[0mnp\u001b[0m\u001b[1;33m.\u001b[0m\u001b[0mlog\u001b[0m\u001b[1;33m(\u001b[0m\u001b[0mmean_square_error\u001b[0m\u001b[1;33m(\u001b[0m\u001b[0mfpreds\u001b[0m\u001b[1;33m.\u001b[0m\u001b[0mT\u001b[0m\u001b[1;33m,\u001b[0m\u001b[0mtestY\u001b[0m\u001b[1;33m[\u001b[0m\u001b[1;33m:\u001b[0m\u001b[1;33m]\u001b[0m\u001b[1;33m)\u001b[0m\u001b[1;33m)\u001b[0m\u001b[1;33m\u001b[0m\u001b[0m\n\u001b[0m",
      "\u001b[1;31mNameError\u001b[0m: name 'fpreds' is not defined"
     ]
    }
   ],
   "source": [
    "np.log(mean_square_error(fpreds.T,testY[:]))"
   ]
  },
  {
   "cell_type": "code",
   "execution_count": null,
   "metadata": {
    "collapsed": true
   },
   "outputs": [],
   "source": []
  }
 ],
 "metadata": {
  "kernelspec": {
   "display_name": "Python 2",
   "language": "python",
   "name": "python2"
  },
  "language_info": {
   "codemirror_mode": {
    "name": "ipython",
    "version": 2
   },
   "file_extension": ".py",
   "mimetype": "text/x-python",
   "name": "python",
   "nbconvert_exporter": "python",
   "pygments_lexer": "ipython2",
   "version": "2.7.9"
  }
 },
 "nbformat": 4,
 "nbformat_minor": 0
}
